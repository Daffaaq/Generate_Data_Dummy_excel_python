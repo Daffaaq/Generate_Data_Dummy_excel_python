{
  "nbformat": 4,
  "nbformat_minor": 0,
  "metadata": {
    "colab": {
      "provenance": [],
      "authorship_tag": "ABX9TyP/V+euY987oSQAZgoHE3fS",
      "include_colab_link": true
    },
    "kernelspec": {
      "name": "python3",
      "display_name": "Python 3"
    },
    "language_info": {
      "name": "python"
    }
  },
  "cells": [
    {
      "cell_type": "markdown",
      "metadata": {
        "id": "view-in-github",
        "colab_type": "text"
      },
      "source": [
        "<a href=\"https://colab.research.google.com/github/Daffaaq/Generate_Data_Dummy_excel_python/blob/main/Obat.ipynb\" target=\"_parent\"><img src=\"https://colab.research.google.com/assets/colab-badge.svg\" alt=\"Open In Colab\"/></a>"
      ]
    },
    {
      "cell_type": "code",
      "execution_count": 1,
      "metadata": {
        "colab": {
          "base_uri": "https://localhost:8080/"
        },
        "id": "4-bwV8WnH6SZ",
        "outputId": "f59c5fea-bd49-439c-ac59-d477023d1ceb"
      },
      "outputs": [
        {
          "output_type": "stream",
          "name": "stdout",
          "text": [
            "Requirement already satisfied: pandas in /usr/local/lib/python3.11/dist-packages (2.2.2)\n",
            "Collecting faker\n",
            "  Downloading faker-37.1.0-py3-none-any.whl.metadata (15 kB)\n",
            "Requirement already satisfied: openpyxl in /usr/local/lib/python3.11/dist-packages (3.1.5)\n",
            "Requirement already satisfied: numpy>=1.23.2 in /usr/local/lib/python3.11/dist-packages (from pandas) (2.0.2)\n",
            "Requirement already satisfied: python-dateutil>=2.8.2 in /usr/local/lib/python3.11/dist-packages (from pandas) (2.9.0.post0)\n",
            "Requirement already satisfied: pytz>=2020.1 in /usr/local/lib/python3.11/dist-packages (from pandas) (2025.2)\n",
            "Requirement already satisfied: tzdata>=2022.7 in /usr/local/lib/python3.11/dist-packages (from pandas) (2025.2)\n",
            "Requirement already satisfied: et-xmlfile in /usr/local/lib/python3.11/dist-packages (from openpyxl) (2.0.0)\n",
            "Requirement already satisfied: six>=1.5 in /usr/local/lib/python3.11/dist-packages (from python-dateutil>=2.8.2->pandas) (1.17.0)\n",
            "Downloading faker-37.1.0-py3-none-any.whl (1.9 MB)\n",
            "\u001b[2K   \u001b[90m━━━━━━━━━━━━━━━━━━━━━━━━━━━━━━━━━━━━━━━━\u001b[0m \u001b[32m1.9/1.9 MB\u001b[0m \u001b[31m16.4 MB/s\u001b[0m eta \u001b[36m0:00:00\u001b[0m\n",
            "\u001b[?25hInstalling collected packages: faker\n",
            "Successfully installed faker-37.1.0\n"
          ]
        }
      ],
      "source": [
        "pip install pandas faker openpyxl"
      ]
    },
    {
      "cell_type": "code",
      "source": [
        "# Mengubah daftar nama obat agar memiliki 100 item\n",
        "all_possible_names = [\n",
        "    'Obat Flu', 'Obat Batuk', 'Obat Sakit Kepala', 'Obat Nyeri', 'Obat Pencernaan',\n",
        "    'Obat Maag', 'Obat Sakit Perut', 'Obat Demam', 'Obat Sakit Gigi', 'Obat Radang Tenggorokan',\n",
        "    'Obat Cacing', 'Obat Alergi', 'Obat Infeksi Saluran Kemih', 'Obat Migrain', 'Obat Kram Otot',\n",
        "    'Obat Stres', 'Obat Asam Lambung', 'Obat Pilek', 'Obat Pusing', 'Obat Insomnia',\n",
        "    'Vitamin A', 'Vitamin C', 'Vitamin D', 'Vitamin E', 'Multivitamin', 'Suplemen Omega-3',\n",
        "    'Suplemen Kalsium', 'Suplemen Kolagen', 'Suplemen Vitamin B12', 'Probiotik', 'Suplemen Glukosamin',\n",
        "    'Obat Sakit Punggung', 'Obat Batuk Berdahak', 'Obat Stres', 'Obat Sakit Kepala Berat', 'Obat Maag Kronis',\n",
        "    'Obat Radang Paru-paru', 'Obat Jantung', 'Obat Antihistamin', 'Obat Penghilang Nyeri', 'Obat Alergi Makanan',\n",
        "    'Obat Sakit Punggung', 'Obat Nyeri Sendi', 'Obat Migrain Kronis', 'Obat Cacing Dewasa', 'Obat Asma',\n",
        "    'Obat Hipertensi', 'Obat Diabetes', 'Obat Kolesterol', 'Obat Gatal', 'Obat Radang Tenggorokan',\n",
        "    'Obat Gusi Berdarah', 'Obat Kejang', 'Obat Luka', 'Obat Keputihan', 'Obat Asam Urat',\n",
        "    'Obat Demam Anak', 'Obat Sakit Tenggorokan', 'Obat Infeksi Telinga', 'Obat Batuk Anak', 'Obat Pusing',\n",
        "    'Obat Insomnia', 'Obat Stres', 'Obat Kanker', 'Obat Jantung', 'Obat Nyeri Haid',\n",
        "    'Obat Flu Anak', 'Obat Pilek Dewasa', 'Obat Penyakit Hati', 'Obat Radang Paru', 'Obat Menurunkan Kolesterol',\n",
        "    'Obat Penyakit Jantung', 'Obat Penyakit Ginjal', 'Obat Antibodi', 'Obat Malaria', 'Obat Menurunkan Gula Darah',\n",
        "    'Obat Penghilang Stres', 'Obat Sakit Perut Anak', 'Obat Penguat Jantung', 'Obat Kram Otot', 'Obat Penyakit Paru',\n",
        "    'Obat Alergi Debu', 'Obat Penyakit Hormon', 'Obat Trombosis', 'Obat Penurun Tekanan Darah', 'Obat Cacing Tanah',\n",
        "    'Obat Pencernaan Lambat', 'Obat Sakit Lambung', 'Obat Sakit Gigi Anak', 'Obat Jerawat Dewasa', 'Obat Stres',\n",
        "    'Obat Obesitas', 'Obat Demam Berdarah', 'Obat Migrain Dewasa', 'Obat Pilek Anak', 'Obat Mata',\n",
        "    'Obat Gatal Kulit', 'Obat Pusing Vertigo', 'Obat Penyakit Kanker', 'Obat Penyakit Paru-paru', 'Obat Mengurangi Rasa Mual'\n",
        "]\n",
        "\n",
        "# Fungsi untuk membuat data obat dengan stok, tipe, dan kadaluarsa\n",
        "def generate_obat_data(obat_names, num):\n",
        "    obat_baru = []\n",
        "\n",
        "    for obat in obat_names:\n",
        "        tipe = 'obat' if random.choice([True, False]) else 'vitamin'\n",
        "        stok = random.randint(30, 100)  # Stok acak antara 30 hingga 100\n",
        "        kadaluarsa = (datetime.now() + timedelta(days=random.randint(30, 365)))\n",
        "        deskripsi = f'Deskripsi untuk {obat}. Obat ini digunakan untuk keperluan medis tertentu.'\n",
        "\n",
        "        obat_baru.append({\n",
        "            'nama_obat_vitamin': obat,\n",
        "            'tipe': tipe,\n",
        "            'deskripsi': deskripsi,\n",
        "            'stok': stok,\n",
        "            'tanggal_kadaluarsa': kadaluarsa,\n",
        "        })\n",
        "\n",
        "    return obat_baru\n",
        "\n",
        "# Membagi data obat menjadi 10 kelompok\n",
        "grouped_obat = [all_possible_names[i:i + 10] for i in range(0, 100, 10)]\n",
        "\n",
        "# Menyimpan data dalam 10 file Excel\n",
        "for idx, obat_group in enumerate(grouped_obat, 1):\n",
        "    # Membuat DataFrame dari setiap grup obat\n",
        "    obat_data = generate_obat_data(obat_group, len(obat_group))\n",
        "    df = pd.DataFrame(obat_data)\n",
        "\n",
        "    # Menyimpan ke Excel sementara\n",
        "    temp_file = f'obat_baru_group_{idx}.xlsx'\n",
        "    df.to_excel(temp_file, index=False, engine='openpyxl')\n",
        "\n",
        "    # Membuka file sementara dan format tanggal\n",
        "    wb = load_workbook(temp_file)\n",
        "    ws = wb.active\n",
        "    for row in ws.iter_rows(min_row=2, min_col=5, max_col=5):  # Kolom 5 adalah tanggal_kadaluarsa\n",
        "        for cell in row:\n",
        "            cell.number_format = 'YYYY-MM-DD'  # Format tanggal ke 'YYYY-MM-DD'\n",
        "    wb.save(temp_file)\n",
        "\n",
        "    print(f\"File Excel berhasil dibuat dengan format tanggal: {temp_file}\")\n"
      ],
      "metadata": {
        "colab": {
          "base_uri": "https://localhost:8080/"
        },
        "id": "ojtKtUe9KAiy",
        "outputId": "ae21ec6a-196b-4c5c-c68f-f21d9587772f"
      },
      "execution_count": 8,
      "outputs": [
        {
          "output_type": "stream",
          "name": "stdout",
          "text": [
            "File Excel berhasil dibuat dengan format tanggal: obat_baru_group_1.xlsx\n",
            "File Excel berhasil dibuat dengan format tanggal: obat_baru_group_2.xlsx\n",
            "File Excel berhasil dibuat dengan format tanggal: obat_baru_group_3.xlsx\n",
            "File Excel berhasil dibuat dengan format tanggal: obat_baru_group_4.xlsx\n",
            "File Excel berhasil dibuat dengan format tanggal: obat_baru_group_5.xlsx\n",
            "File Excel berhasil dibuat dengan format tanggal: obat_baru_group_6.xlsx\n",
            "File Excel berhasil dibuat dengan format tanggal: obat_baru_group_7.xlsx\n",
            "File Excel berhasil dibuat dengan format tanggal: obat_baru_group_8.xlsx\n",
            "File Excel berhasil dibuat dengan format tanggal: obat_baru_group_9.xlsx\n",
            "File Excel berhasil dibuat dengan format tanggal: obat_baru_group_10.xlsx\n"
          ]
        }
      ]
    },
    {
      "cell_type": "code",
      "source": [],
      "metadata": {
        "id": "g4mDARUCKc0v"
      },
      "execution_count": null,
      "outputs": []
    }
  ]
}