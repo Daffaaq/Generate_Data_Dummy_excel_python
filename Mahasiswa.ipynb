{
  "nbformat": 4,
  "nbformat_minor": 0,
  "metadata": {
    "colab": {
      "provenance": [],
      "authorship_tag": "ABX9TyMLb6xcH4wTHSySQzrYfeIl",
      "include_colab_link": true
    },
    "kernelspec": {
      "name": "python3",
      "display_name": "Python 3"
    },
    "language_info": {
      "name": "python"
    }
  },
  "cells": [
    {
      "cell_type": "markdown",
      "metadata": {
        "id": "view-in-github",
        "colab_type": "text"
      },
      "source": [
        "<a href=\"https://colab.research.google.com/github/Daffaaq/Generate_Data_Dummy_excel_python/blob/main/Mahasiswa.ipynb\" target=\"_parent\"><img src=\"https://colab.research.google.com/assets/colab-badge.svg\" alt=\"Open In Colab\"/></a>"
      ]
    },
    {
      "cell_type": "code",
      "execution_count": 8,
      "metadata": {
        "colab": {
          "base_uri": "https://localhost:8080/"
        },
        "id": "lYwBRcjMjl07",
        "outputId": "43876806-8e5e-4024-e3ff-2a39e039183d"
      },
      "outputs": [
        {
          "output_type": "stream",
          "name": "stdout",
          "text": [
            "Collecting faker\n",
            "  Downloading Faker-36.1.1-py3-none-any.whl.metadata (15 kB)\n",
            "Requirement already satisfied: tzdata in /usr/local/lib/python3.11/dist-packages (from faker) (2025.1)\n",
            "Downloading Faker-36.1.1-py3-none-any.whl (1.9 MB)\n",
            "\u001b[?25l   \u001b[90m━━━━━━━━━━━━━━━━━━━━━━━━━━━━━━━━━━━━━━━━\u001b[0m \u001b[32m0.0/1.9 MB\u001b[0m \u001b[31m?\u001b[0m eta \u001b[36m-:--:--\u001b[0m\r\u001b[2K   \u001b[91m━━━━━━━━━━━━━━━━━━━━━━━━━━━━━━━━━━━━━━━\u001b[0m\u001b[91m╸\u001b[0m \u001b[32m1.9/1.9 MB\u001b[0m \u001b[31m103.2 MB/s\u001b[0m eta \u001b[36m0:00:01\u001b[0m\r\u001b[2K   \u001b[90m━━━━━━━━━━━━━━━━━━━━━━━━━━━━━━━━━━━━━━━━\u001b[0m \u001b[32m1.9/1.9 MB\u001b[0m \u001b[31m51.8 MB/s\u001b[0m eta \u001b[36m0:00:00\u001b[0m\n",
            "\u001b[?25hInstalling collected packages: faker\n",
            "Successfully installed faker-36.1.1\n"
          ]
        }
      ],
      "source": [
        "!pip install faker\n"
      ]
    },
    {
      "cell_type": "code",
      "source": [
        "import pandas as pd\n",
        "import random\n",
        "from faker import Faker\n",
        "\n",
        "# Membuat instance dari Faker untuk generate data palsu\n",
        "fake = Faker()\n",
        "\n",
        "# Fungsi untuk menghasilkan data mahasiswa palsu\n",
        "def generate_mahasiswa_data():\n",
        "    # Membuat email dengan domain @gmail.com\n",
        "    email = fake.user_name() + '@gmail.com'\n",
        "\n",
        "    # Membuat nomor telepon yang dimulai dengan +62 dan panjangnya antara 8 hingga 14 digit\n",
        "    phone_number = '+62' + ''.join([random.choice('0123456789') for _ in range(random.randint(8, 14))])\n",
        "\n",
        "    return {\n",
        "        'nama_mahasiswa': fake.name(),\n",
        "        'nama_pendek_mahasiswa': fake.first_name(),\n",
        "        'email_mahasiswa': email,\n",
        "        'password_mahasiswa': 'password123',  # Password statis, bisa diganti sesuai kebutuhan\n",
        "        'alamat_mahasiswa': fake.address(),\n",
        "        'nim_mahasiswa': fake.random_number(digits=8),\n",
        "        'no_telepon_mahasiswa': phone_number,\n",
        "        'jenis_kelamin_mahasiswa': random.choice(['L', 'P']),\n",
        "        'tanggal_lahir_mahasiswa': fake.date_of_birth(minimum_age=18, maximum_age=30).strftime('%Y-%m-%d'),\n",
        "    }\n",
        "\n",
        "# Generate 10 file Excel, masing-masing berisi 25 data\n",
        "for i in range(10):\n",
        "    mahasiswa_data = [generate_mahasiswa_data() for _ in range(25)]\n",
        "    df = pd.DataFrame(mahasiswa_data)\n",
        "\n",
        "    # Menyimpan data ke dalam file Excel\n",
        "    file_name = f\"mahasiswa_data_{i+1}.xlsx\"\n",
        "    df.to_excel(file_name, index=False, engine='openpyxl')\n",
        "    print(f\"File {file_name} telah dibuat.\")\n"
      ],
      "metadata": {
        "colab": {
          "base_uri": "https://localhost:8080/"
        },
        "id": "QcVsxmyYjuxi",
        "outputId": "5230d5d7-8091-4d22-b5b8-0ea2d8ec00a8"
      },
      "execution_count": 9,
      "outputs": [
        {
          "output_type": "stream",
          "name": "stdout",
          "text": [
            "File mahasiswa_data_1.xlsx telah dibuat.\n",
            "File mahasiswa_data_2.xlsx telah dibuat.\n",
            "File mahasiswa_data_3.xlsx telah dibuat.\n",
            "File mahasiswa_data_4.xlsx telah dibuat.\n",
            "File mahasiswa_data_5.xlsx telah dibuat.\n",
            "File mahasiswa_data_6.xlsx telah dibuat.\n",
            "File mahasiswa_data_7.xlsx telah dibuat.\n",
            "File mahasiswa_data_8.xlsx telah dibuat.\n",
            "File mahasiswa_data_9.xlsx telah dibuat.\n",
            "File mahasiswa_data_10.xlsx telah dibuat.\n"
          ]
        }
      ]
    }
  ]
}