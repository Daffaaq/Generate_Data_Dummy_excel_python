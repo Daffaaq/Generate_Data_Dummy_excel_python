{
  "nbformat": 4,
  "nbformat_minor": 0,
  "metadata": {
    "colab": {
      "provenance": [],
      "name": "Generate_data_dummy.ipynb",
      "toc_visible": true,
      "authorship_tag": "ABX9TyOLxmVKzW/wL38ow1uQ4Scx",
      "include_colab_link": true
    },
    "kernelspec": {
      "name": "python3",
      "display_name": "Python 3"
    },
    "language_info": {
      "name": "python"
    }
  },
  "cells": [
    {
      "cell_type": "markdown",
      "metadata": {
        "id": "view-in-github",
        "colab_type": "text"
      },
      "source": [
        "<a href=\"https://colab.research.google.com/github/Daffaaq/Generate_Data_Dummy_excel_python/blob/main/Generate_data_dummy.ipynb\" target=\"_parent\"><img src=\"https://colab.research.google.com/assets/colab-badge.svg\" alt=\"Open In Colab\"/></a>"
      ]
    },
    {
      "cell_type": "code",
      "execution_count": null,
      "metadata": {
        "id": "zA4D2wxCCFFu"
      },
      "outputs": [],
      "source": [
        "!pip install pandas openpyxl faker\n"
      ]
    },
    {
      "cell_type": "code",
      "source": [
        "import pandas as pd\n",
        "from faker import Faker\n",
        "import random\n",
        "from datetime import datetime\n",
        "\n",
        "# Inisialisasi Faker untuk membuat data acak\n",
        "fake = Faker()\n",
        "\n",
        "# Fungsi untuk membuat data dummy\n",
        "def generate_dummy_data(num_rows):\n",
        "    data = []\n",
        "    email_set = set()  # Menyimpan email yang sudah ada untuk memastikan keunikannya\n",
        "\n",
        "    for _ in range(num_rows):\n",
        "        # Membuat data acak untuk setiap field\n",
        "        item_name = fake.word()  # Nama barang acak\n",
        "        item_category = random.choice(['Elektronik', 'Pakaian', 'Makanan', 'Furniture', 'Alat Tulis'])  # Kategori barang acak\n",
        "        item_id = f\"'{fake.unique.random_int(min=100000, max=999999)}\"  # ID barang acak\n",
        "        price = round(random.uniform(10.0, 1000.0), 2)  # Harga barang acak\n",
        "\n",
        "        # Membuat email berdasarkan item_name dan memastikan keunikannya\n",
        "        base_email = f\"{item_name.lower()}@example.com\"\n",
        "        item_email = base_email\n",
        "        counter = 1\n",
        "        while item_email in email_set:\n",
        "            item_email = f\"{item_name.lower()}{random.randint(1000, 9999)}@example.com\"\n",
        "            counter += 1\n",
        "\n",
        "        # Menambahkan email yang baru ke set untuk memastikan keunikan\n",
        "        email_set.add(item_email)\n",
        "\n",
        "        stock_quantity = random.randint(1, 100)  # Jumlah stok barang acak\n",
        "        supplier_name = fake.company()  # Nama pemasok barang acak\n",
        "        supplier_contact = \"+62\" + ''.join([str(random.randint(0, 9)) for _ in range(random.randint(7, 13))])  # Kontak pemasok\n",
        "\n",
        "        # Menambahkan data ke dalam list\n",
        "        data.append({\n",
        "            'item_name': item_name,  # Nama barang\n",
        "            'item_category': item_category,  # Kategori barang\n",
        "            'item_id': item_id,  # ID barang\n",
        "            'price': price,  # Harga barang\n",
        "            'item_email': item_email,  # Email barang\n",
        "            'stock_quantity': stock_quantity,  # Jumlah stok barang\n",
        "            'supplier_name': supplier_name,  # Nama pemasok\n",
        "            'supplier_contact': supplier_contact  # Kontak pemasok\n",
        "        })\n",
        "\n",
        "    return data\n",
        "\n",
        "# Menentukan jumlah total data dummy yang ingin dibuat\n",
        "total_rows = 150  # Total data yang diinginkan\n",
        "rows_per_file = 25  # Data per file\n",
        "num_files = total_rows // rows_per_file  # Jumlah file yang dihasilkan\n",
        "\n",
        "# Iterasi untuk membuat file data dummy\n",
        "for i in range(num_files):\n",
        "    # Generate data untuk setiap file (25 data per file)\n",
        "    dummy_data = generate_dummy_data(rows_per_file)\n",
        "\n",
        "    # Membuat DataFrame dari data dummy\n",
        "    df = pd.DataFrame(dummy_data)\n",
        "\n",
        "    # Menyimpan DataFrame ke file Excel\n",
        "    output_file = f'/content/barang_data_dummy_{i+1}.xlsx'  # Nama file berdasarkan nomor\n",
        "    df.to_excel(output_file, index=False, engine='openpyxl')\n",
        "\n",
        "    # Menampilkan pesan sukses\n",
        "    print(f'File Excel {i+1} berhasil dibuat: {output_file}')\n"
      ],
      "metadata": {
        "id": "vnOarfXADBYb"
      },
      "execution_count": null,
      "outputs": []
    }
  ]
}